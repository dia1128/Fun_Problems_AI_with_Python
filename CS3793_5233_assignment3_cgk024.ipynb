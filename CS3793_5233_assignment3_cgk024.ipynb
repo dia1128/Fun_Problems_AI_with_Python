{
  "nbformat": 4,
  "nbformat_minor": 0,
  "metadata": {
    "colab": {
      "name": "CS3793_5233_assignment3_cgk024.ipynb",
      "provenance": [],
      "collapsed_sections": []
    },
    "kernelspec": {
      "name": "python3",
      "display_name": "Python 3"
    }
  },
  "cells": [
    {
      "cell_type": "markdown",
      "metadata": {
        "id": "9wUL_Fy5qUDI"
      },
      "source": [
        "# UTSA CS 3793/5233: Assignment-3\n",
        "\n",
        "Summer 2021\n",
        "\n",
        "\n",
        "**Last Name - First Name - (abc123)**\n",
        "\n",
        "\n",
        "\n",
        "\n"
      ]
    },
    {
      "cell_type": "markdown",
      "metadata": {
        "id": "NM8b9KVYsETT"
      },
      "source": [
        "## Learning Objectives\n",
        "\n",
        "Implement 2 different machine learning algorithms\n",
        "*   Stochastic Gradient Descent\n",
        "*   ID3 Decision Tree\n"
      ]
    },
    {
      "cell_type": "markdown",
      "metadata": {
        "id": "LzR4Ic34zJlT"
      },
      "source": [
        "\n",
        "## Description\n",
        "\n",
        "This assignment is focused on **machine learning**, mainly on the implementation of 2 different algorithms - Stochastic Gradient Descent & ID3 decision tree. \n",
        "The assignment is divided into two sections, each for one unique ML algorithm. \n",
        "\n",
        "The base structure and comments are provided on what should be done. You can use some libraries that help support you for the successful completion of the assignment. However, you **CANNOT** use a complete library that contains the implementation of ML algorithms. You can get pieces of code from online, but please cite the source properly.\n"
      ]
    },
    {
      "cell_type": "markdown",
      "metadata": {
        "id": "vnPfmHAOteOI"
      },
      "source": [
        "##Import Libraries\n",
        "\n",
        "Write all the import statements here. This should be for both algorithm implmentations. As mentioned before, you can not use any premade ML libraries."
      ]
    },
    {
      "cell_type": "code",
      "metadata": {
        "id": "f9apbZGptej6",
        "colab": {
          "base_uri": "https://localhost:8080/"
        },
        "outputId": "20da6331-905a-47ba-f329-8789e525c0eb"
      },
      "source": [
        "from google.colab import drive\n",
        "drive.mount('/content/drive')\n",
        "# import all required libraries\n",
        "\n"
      ],
      "execution_count": null,
      "outputs": [
        {
          "output_type": "stream",
          "text": [
            "Drive already mounted at /content/drive; to attempt to forcibly remount, call drive.mount(\"/content/drive\", force_remount=True).\n"
          ],
          "name": "stdout"
        }
      ]
    },
    {
      "cell_type": "code",
      "metadata": {
        "id": "spYqdNHOWCFy",
        "colab": {
          "base_uri": "https://localhost:8080/"
        },
        "outputId": "36e75e2e-4f02-4bdb-9252-e690a6b7253a"
      },
      "source": [
        "from google.colab import drive\n",
        "drive.mount('/content/drive')"
      ],
      "execution_count": null,
      "outputs": [
        {
          "output_type": "stream",
          "text": [
            "Drive already mounted at /content/drive; to attempt to forcibly remount, call drive.mount(\"/content/drive\", force_remount=True).\n"
          ],
          "name": "stdout"
        }
      ]
    },
    {
      "cell_type": "code",
      "metadata": {
        "id": "fdqXyFZ95P0j"
      },
      "source": [
        "# Assume that the data files are in the following folder -- THIS WILL BE USED BY THE TA\n",
        "basePath = \"/content/drive/My Drive/Colab Notebooks/Artificial Intelligence/Data/\"\n"
      ],
      "execution_count": null,
      "outputs": []
    },
    {
      "cell_type": "markdown",
      "metadata": {
        "id": "YeYRnesWqvLm"
      },
      "source": [
        "#Stochastic Gradient Descent\n",
        "\n",
        "In this section, you will implement the Stochastic Gradient Descent algorithm. The training is for a **binary classification** task i.e. each instance will have a class value of 0 or 1. Also, assume that you are given **all binary-valued attributes** and that there are **no missing values** in the train or test data. \n"
      ]
    },
    {
      "cell_type": "markdown",
      "metadata": {
        "id": "IUVZIK6ctMi4"
      },
      "source": [
        "##Algorithm\n",
        "\n",
        "(50 points)\n",
        "\n",
        "Following are the data files that will be provided to you for the gradient descent algorithm implementation.\n",
        "\n",
        "*   Training file - 'gd-train.dat'\n",
        "*   Testing file - 'gd-test.dat'\n",
        "\n",
        "In these files, only non-space characters are relevant. The first line contains the attribute names. All the other lines are different example instances to be used for the algorithm. Each column holds values of the attributes, whereas the last column holds the class label for that instance.\n",
        "\n",
        "Write the code in the following code block, structure is provided. Instructions on the steps to follow are provided as comments.\n",
        "\n"
      ]
    },
    {
      "cell_type": "code",
      "metadata": {
        "id": "2XoSqVJG5FkG"
      },
      "source": [
        "# Data file name variables\n",
        "train = basePath + \"gd-train.dat\"\n",
        "test = basePath + \"gd-test.dat\"\n"
      ],
      "execution_count": null,
      "outputs": []
    },
    {
      "cell_type": "code",
      "metadata": {
        "id": "l73PTZtCPdxj"
      },
      "source": [
        "# Read the training and testing data files\n",
        "import pandas as pd\n",
        "import numpy as np\n",
        "import math\n",
        "train_d = pd.read_table(train)\n",
        "test_d = pd.read_table(test)\n"
      ],
      "execution_count": null,
      "outputs": []
    },
    {
      "cell_type": "code",
      "metadata": {
        "id": "VN3FC2qcPfcR"
      },
      "source": [
        "# Activation Function - implement Sigmoid\n",
        "def activation_function(h):\n",
        "    # given 'h' compute and return 'z' based on the activation function implemented\n",
        "    z = 1/(1 + np.exp(-h))\n",
        "    return z\n",
        "    "
      ],
      "execution_count": null,
      "outputs": []
    },
    {
      "cell_type": "code",
      "metadata": {
        "colab": {
          "base_uri": "https://localhost:8080/"
        },
        "id": "0sfLZeEyzlfu",
        "outputId": "2cc4aa50-802d-4854-833a-1b044e4606d2"
      },
      "source": [
        "def train(train_data, learning_rate=0.05):\n",
        "  weights = np.zeros([1, 14])\n",
        "  bias= 1\n",
        "  #weights = np.append(weights,bias)\n",
        "  \n",
        "  for index,row in train_data.iterrows():\n",
        "        x = row.values[0:-1]\n",
        "        y = row.values[-1]\n",
        "        x = np.append(x,bias)\n",
        "        h = np.dot(weights,x) \n",
        "        z = activation_function(h) \n",
        "        \n",
        "        weights = weights + learning_rate * (y-z) * x \n",
        "        #bias = bias + learning_rate * (y-z) \n",
        "\n",
        "     \n",
        "  return weights\n",
        "train(train_d, learning_rate=0.05) #"
      ],
      "execution_count": null,
      "outputs": [
        {
          "output_type": "execute_result",
          "data": {
            "text/plain": [
              "array([[-0.22166315, -0.15768116, -0.22689191, -0.15657739, -0.05470236,\n",
              "        -0.12479901, -0.4440418 , -0.05179462,  0.15343216,  0.15127215,\n",
              "        -0.02170158, -0.32475223, -0.1743294 , -0.1743294 ]])"
            ]
          },
          "metadata": {
            "tags": []
          },
          "execution_count": 163
        }
      ]
    },
    {
      "cell_type": "code",
      "metadata": {
        "colab": {
          "base_uri": "https://localhost:8080/"
        },
        "id": "c-sv-zTw36rn",
        "outputId": "25aca61b-5260-4370-d2f0-607be44f7f4a"
      },
      "source": [
        "# Test the model (weights learnt) using the given test dataset\n",
        "# return the accuracy value\n",
        "def test(test_data, weights, threshold):\n",
        "  count = 0\n",
        "  bias= 1\n",
        "  correct = 0\n",
        "  for index,row in test_data.iterrows():\n",
        "       \n",
        "        x = row.values[0:-1]\n",
        "        x = np.append(x, bias)\n",
        "        y = row.values[-1]\n",
        "        h = np.dot(weights,x) \n",
        "        z = activation_function(h)\n",
        "        \n",
        "        if z < threshold:\n",
        "          z = 0\n",
        "        else:\n",
        "          z = 1.0\n",
        "        \n",
        "        if z == y:\n",
        "          correct += 1\n",
        "\n",
        "        accuracy = (correct / float(len(test_data)))*100.0\n",
        "  return accuracy\n",
        "    # go through each testing data instance\n",
        "        # get 'x' as one multi-variate data instance and 'y' as the ground truth class label\n",
        "        # obtain h(x)\n",
        "        # call the activation function with 'h' as parameter to obtain 'z'\n",
        "        # use 'threshold' to convert 'z' to either 0 or 1 so as to match to the ground truth binary labels\n",
        "        # compare the normalized 'z' with 'y' to calculate the positive and negative instances for calculating accuracy\n",
        "    # return the accuracy value for the given test dataset\n",
        "  #print(count)\n",
        "w = train(train_d, learning_rate=0.05) \n",
        "test(test_d, w, 0.5 ) "
      ],
      "execution_count": null,
      "outputs": [
        {
          "output_type": "execute_result",
          "data": {
            "text/plain": [
              "72.25"
            ]
          },
          "metadata": {
            "tags": []
          },
          "execution_count": 164
        }
      ]
    },
    {
      "cell_type": "code",
      "metadata": {
        "id": "_5B6IG0APxH4"
      },
      "source": [
        "# Gradient Descent function\n",
        "def gradient_descent(df_train, df_test, learning_rate=0.05, threshold=0.5):\n",
        "    # call the train function to train the model and obtain the weights\n",
        "    weights = train(df_train, learning_rate)\n",
        "    # call the test function with the training dataset to obtain the training accuracy\n",
        "    trainAccuracy = test(df_train,weights, 0.5 ) \n",
        "    # call the test function with the testing dataset to obtain the testing accuracy\n",
        "    testAccuracy = test(df_test,weights, 0.5 ) \n",
        "    # return (trainAccuracy, testAccuracy)\n",
        "    return (trainAccuracy, testAccuracy)\n",
        "    #return \n",
        "#gradient_descent(train_d, test_d, learning_rate=0.05, threshold=0.5)    "
      ],
      "execution_count": null,
      "outputs": []
    },
    {
      "cell_type": "code",
      "metadata": {
        "id": "MB_b5ButP3w3"
      },
      "source": [
        "# Threshold of 0.5 will be used to classify the instance for the test. If the value is >= 0.5, classify as 1 or else 0.\n",
        "threshold = 0.5\n"
      ],
      "execution_count": null,
      "outputs": []
    },
    {
      "cell_type": "code",
      "metadata": {
        "id": "YdPwgSBOtb1P",
        "colab": {
          "base_uri": "https://localhost:8080/"
        },
        "outputId": "f04c9f2e-3a23-4774-b21e-be4931bdc442"
      },
      "source": [
        "# Main algorithm loop\n",
        "# Loop through all the different learning rates [0.05, 1]\n",
        "lr = np.linspace(0.05, 1, num=20)\n",
        "    # For each learning rate selected, call the gradient descent function to obtain the train and test accuracy values\n",
        "for i in lr:\n",
        "  accuracy_train, accuracyt_test = gradient_descent(train_d, test_d, learning_rate=i, threshold=0.5)\n",
        "    # Print both the accuracy values as \"Accuracy for LR of 0.1 on Training set = x %\" OR \"Accuracy for LR of 0.1 on Testing set = x %\"\n",
        "  print(\"Accuracy for LR of\", format(i, \".2f\") , \"on Training set =\", format(accuracy_train, \".2f\"),\"%\" , \"OR Accuracy for LR of:\", format(i, \".2f\") , \"on Testing set =\",  format(accuracyt_test, \".2f\"), \"%\")\n",
        " "
      ],
      "execution_count": null,
      "outputs": [
        {
          "output_type": "stream",
          "text": [
            "Accuracy for LR of 0.05 on Training set = 68.00 % OR Accuracy for LR of: 0.05 on Testing set = 72.25 %\n",
            "Accuracy for LR of 0.10 on Training set = 68.00 % OR Accuracy for LR of: 0.10 on Testing set = 71.75 %\n",
            "Accuracy for LR of 0.15 on Training set = 68.00 % OR Accuracy for LR of: 0.15 on Testing set = 71.75 %\n",
            "Accuracy for LR of 0.20 on Training set = 69.00 % OR Accuracy for LR of: 0.20 on Testing set = 71.50 %\n",
            "Accuracy for LR of 0.25 on Training set = 69.00 % OR Accuracy for LR of: 0.25 on Testing set = 71.50 %\n",
            "Accuracy for LR of 0.30 on Training set = 69.00 % OR Accuracy for LR of: 0.30 on Testing set = 71.25 %\n",
            "Accuracy for LR of 0.35 on Training set = 69.00 % OR Accuracy for LR of: 0.35 on Testing set = 70.50 %\n",
            "Accuracy for LR of 0.40 on Training set = 70.00 % OR Accuracy for LR of: 0.40 on Testing set = 70.75 %\n",
            "Accuracy for LR of 0.45 on Training set = 69.00 % OR Accuracy for LR of: 0.45 on Testing set = 69.00 %\n",
            "Accuracy for LR of 0.50 on Training set = 69.00 % OR Accuracy for LR of: 0.50 on Testing set = 69.50 %\n",
            "Accuracy for LR of 0.55 on Training set = 69.00 % OR Accuracy for LR of: 0.55 on Testing set = 68.00 %\n",
            "Accuracy for LR of 0.60 on Training set = 69.00 % OR Accuracy for LR of: 0.60 on Testing set = 67.50 %\n",
            "Accuracy for LR of 0.65 on Training set = 69.00 % OR Accuracy for LR of: 0.65 on Testing set = 66.50 %\n",
            "Accuracy for LR of 0.70 on Training set = 69.00 % OR Accuracy for LR of: 0.70 on Testing set = 65.25 %\n",
            "Accuracy for LR of 0.75 on Training set = 67.00 % OR Accuracy for LR of: 0.75 on Testing set = 65.25 %\n",
            "Accuracy for LR of 0.80 on Training set = 66.00 % OR Accuracy for LR of: 0.80 on Testing set = 64.75 %\n",
            "Accuracy for LR of 0.85 on Training set = 66.00 % OR Accuracy for LR of: 0.85 on Testing set = 64.50 %\n",
            "Accuracy for LR of 0.90 on Training set = 65.00 % OR Accuracy for LR of: 0.90 on Testing set = 64.25 %\n",
            "Accuracy for LR of 0.95 on Training set = 67.00 % OR Accuracy for LR of: 0.95 on Testing set = 64.25 %\n",
            "Accuracy for LR of 1.00 on Training set = 67.00 % OR Accuracy for LR of: 1.00 on Testing set = 64.50 %\n"
          ],
          "name": "stdout"
        }
      ]
    },
    {
      "cell_type": "markdown",
      "metadata": {
        "id": "lYxmgcnes9cS"
      },
      "source": [
        "##Extra Credit - Accuracy Plots\n",
        "\n",
        "(05 points)\n",
        "\n",
        "Use the above accuracy results on the training and testing data and write code to plot the graphs as mentioned in the code block below.\n",
        "\n"
      ]
    },
    {
      "cell_type": "code",
      "metadata": {
        "id": "fbBNakSDq0Wv",
        "colab": {
          "base_uri": "https://localhost:8080/",
          "height": 295
        },
        "outputId": "669cde3b-6672-477d-cbb6-511eca00d437"
      },
      "source": [
        "# Plot the graphs for accuracy results.\n",
        "# There will be 2 graphs - one for training data and the other for testing data\n",
        "# For each graph,\n",
        "    # X-axis will be the learning rate going from 0.05-1 in increments on 0.05\n",
        "\n",
        "import matplotlib.pyplot as plt    # Y-axis will be the accuracy values at the selected learning rate.\n",
        "x = np.arange(start=0.05, stop=1, step=0.05)\n",
        "y_train = []\n",
        "y_test = []\n",
        "for i in x:\n",
        "  accuracy_train, accuracyt_test = gradient_descent(train_d, test_d, learning_rate=i, threshold=0.5)\n",
        "  y_train.append(accuracy_train)\n",
        "  y_test.append(accuracyt_test)\n",
        "\n",
        "plt.plot(x,y_train)\n",
        "plt.xlabel(\"learning rate\")  # add X-axis label\n",
        "plt.ylabel(\"training accuracy\")  # add Y-axis label\n",
        "plt.title(\"learning rate curve on training data\")  # add title\n",
        "plt.show()\n"
      ],
      "execution_count": null,
      "outputs": [
        {
          "output_type": "display_data",
          "data": {
            "image/png": "[encoded data removed]",
            "text/plain": [
              "<Figure size 432x288 with 1 Axes>"
            ]
          },
          "metadata": {
            "tags": [],
            "needs_background": "light"
          }
        }
      ]
    },
    {
      "cell_type": "code",
      "metadata": {
        "colab": {
          "base_uri": "https://localhost:8080/",
          "height": 295
        },
        "id": "FYMhY72NnkPp",
        "outputId": "6dc9e851-0e4a-49f1-87f4-c3c3b0d236e0"
      },
      "source": [
        "plt.plot(x,y_test)\n",
        "plt.xlabel(\"learning rate curve\")  # add X-axis label\n",
        "plt.ylabel(\"testing accuracy\")  # add Y-axis label\n",
        "plt.title(\"learning rate curve on testing data\")  # add title\n",
        "plt.show()"
      ],
      "execution_count": null,
      "outputs": [
        {
          "output_type": "display_data",
          "data": {
            "image/png": "[encoded data removed]",
            "text/plain": [
              "<Figure size 432x288 with 1 Axes>"
            ]
          },
          "metadata": {
            "tags": [],
            "needs_background": "light"
          }
        }
      ]
    },
    {
      "cell_type": "markdown",
      "metadata": {
        "id": "onnqJYTEq0l3"
      },
      "source": [
        "#ID3 Decision Tree\n",
        "\n",
        "In this section, you will implement the ID3 Decision Tree algorithm. The training is for a **binary classification** task i.e. each instance will have a class value of 0 or 1. Also, assume that you are given **all binary-valued attributes** and that there are **no missing values** in the train or test data. \n"
      ]
    },
    {
      "cell_type": "markdown",
      "metadata": {
        "id": "eDNztBkTtRPw"
      },
      "source": [
        "## Algorithm\n",
        "\n",
        "(100 points)\n",
        "\n",
        "Following are the data files that will be provided to you for the ID3 algorithm implementation.\n",
        "\n",
        "*   Training file - 'id3-train.dat'\n",
        "*   Testing file - 'id3-test.dat'\n",
        "\n",
        "In these files, only non-space characters are relevant. The first line contains the attribute names. All the other lines are example instances to be used for the algorithm. Each column holds values of the attributes, whereas the last column holds the class label for that instance.\n",
        "\n",
        "In a decision tree, if you reach a leaf node but still have examples that belong to different classes, then choose the most frequent class (among the instances at the leaf node). If you reach a leaf node in the decision tree and have no examples left or the examples are equally split among multiple classes, then choose the class that is most frequent in the entire training set. You do not need to implement pruning. Also, don’t forget to use logarithm base 2 when computing entropy and set (0 log 0) to 0.\n",
        "\n",
        "Write the code in the following code block, structure is provided. Instructions on the steps to follow are provided as comments. The code should output the following 3 things:\n",
        "\n",
        "*   Print the Decision Tree created, in the following example format:\n",
        "\n",
        "    ```\n",
        "    attr1 = 0 :\n",
        "        attr2 = 0 :\n",
        "            attr3 = 0 : 1 -- 4\n",
        "            attr3 = 1 : 0 -- 9\n",
        "        attr2 = 1 :\n",
        "            attr4 = 0 : 0 -- 2\n",
        "            attr4 = 1 : 1 -- 10\n",
        "    attr1 = 1 :\n",
        "        attr2 = 1 : 1 -- 17\n",
        "\n",
        "    ```\n",
        "\n",
        "*   Accuracy on the Training data = x %\n",
        "*   Accuracy on the Test data = x %\n",
        "\n",
        "\n",
        "\n"
      ]
    },
    {
      "cell_type": "code",
      "metadata": {
        "id": "wTLz1lGYQJKS"
      },
      "source": [
        "# Data file name variables\n",
        "train = basePath + \"id3-train.dat\"\n",
        "test = basePath + \"id3-test.dat\"\n",
        "train_d = pd.read_table(train)\n",
        "test_d = pd.read_table(test)\n",
        "#print(train_d)"
      ],
      "execution_count": null,
      "outputs": []
    },
    {
      "cell_type": "markdown",
      "metadata": {
        "id": "qI03M9kw-JV-"
      },
      "source": [
        "#Reference of this following code of ID3: https://www.python-course.eu/Decision_Trees.php"
      ]
    },
    {
      "cell_type": "code",
      "metadata": {
        "id": "tDEs7nW50AfW"
      },
      "source": [
        "\"\"\"\n",
        "Make the imports of python packages needed\n",
        "\"\"\"\n",
        "import pandas as pd\n",
        "import numpy as np\n",
        "\n",
        "\n",
        "dataset= train_d\n",
        "\n",
        "def entropy(target_col):\n",
        "    \"\"\"\n",
        "    Calculate the entropy of a dataset.\n",
        "    The only parameter of this function is the target_col parameter which specifies the target column\n",
        "    \"\"\"\n",
        "    elements,counts = np.unique(target_col,return_counts = True)\n",
        "    entropy = np.sum([(-counts[i]/np.sum(counts))*np.log2(counts[i]/np.sum(counts)) for i in range(len(elements))])\n",
        "    return entropy\n",
        "\n",
        "\n",
        "\n",
        "\n",
        "def InfoGain(data,split_attribute_name,target_name=\"class\"):\n",
        "    \n",
        "    #Calculate the entropy of the total dataset\n",
        "    total_entropy = entropy(data[target_name])\n",
        "    \n",
        "    ##Calculate the entropy of the dataset\n",
        "    \n",
        "    #Calculate the values and the corresponding counts for the split attribute \n",
        "    vals,counts= np.unique(data[split_attribute_name],return_counts=True)\n",
        "    \n",
        "    #Calculate the weighted entropy\n",
        "    Weighted_Entropy = np.sum([(counts[i]/np.sum(counts))*entropy(data.where(data[split_attribute_name]==vals[i]).dropna()[target_name]) for i in range(len(vals))])\n",
        "    \n",
        "    #Calculate the information gain\n",
        "    Information_Gain = total_entropy - Weighted_Entropy\n",
        "    return Information_Gain\n",
        " "
      ],
      "execution_count": null,
      "outputs": []
    },
    {
      "cell_type": "code",
      "metadata": {
        "colab": {
          "base_uri": "https://localhost:8080/"
        },
        "id": "lZtvLRlp4Gj4",
        "outputId": "5785b0de-e6ec-42ff-ca5f-2660e1d3bac3"
      },
      "source": [
        "def ID3(data,originaldata,features,target_attribute_name=\"class\",parent_node_class = None):\n",
        "    \n",
        "    #Define the stopping criteria --> If one of this is satisfied, we want to return a leaf node#\n",
        "    \n",
        "    #If all target_values have the same value, return this value\n",
        "    if len(np.unique(data[target_attribute_name])) <= 1:\n",
        "        return np.unique(data[target_attribute_name])[0]\n",
        "    \n",
        "    #If the dataset is empty, return the mode target feature value in the original dataset\n",
        "    elif len(data)==0:\n",
        "        return np.unique(originaldata[target_attribute_name])[np.argmax(np.unique(originaldata[target_attribute_name],return_counts=True)[1])]\n",
        "    \n",
        "    #If the feature space is empty, return the mode target feature value of the direct parent node --> Note that\n",
        "    #the direct parent node is that node which has called the current run of the ID3 algorithm and hence\n",
        "    #the mode target feature value is stored in the parent_node_class variable.\n",
        "    \n",
        "    elif len(features) ==0:\n",
        "        return parent_node_class\n",
        "    \n",
        "    #If none of the above holds true, grow the tree!\n",
        "    \n",
        "    else:\n",
        "        #Set the default value for this node --> The mode target feature value of the current node\n",
        "        parent_node_class = np.unique(data[target_attribute_name])[np.argmax(np.unique(data[target_attribute_name],return_counts=True)[1])]\n",
        "        \n",
        "        #Select the feature which best splits the dataset\n",
        "        item_values = [InfoGain(data,feature,target_attribute_name) for feature in features] #Return the information gain values for the features in the dataset\n",
        "        best_feature_index = np.argmax(item_values)\n",
        "        best_feature = features[best_feature_index]\n",
        "        \n",
        "        #Create the tree structure. The root gets the name of the feature (best_feature) with the maximum information\n",
        "        #gain in the first run\n",
        "        tree = {best_feature:{}}\n",
        "        \n",
        "        \n",
        "        #Remove the feature with the best inforamtion gain from the feature space\n",
        "        features = [i for i in features if i != best_feature]\n",
        "        \n",
        "        #Grow a branch under the root node for each possible value of the root node feature\n",
        "        \n",
        "        for value in np.unique(data[best_feature]):\n",
        "            value = value\n",
        "            #Split the dataset along the value of the feature with the largest information gain and therwith create sub_datasets\n",
        "            sub_data = data.where(data[best_feature] == value).dropna()\n",
        "            \n",
        "            #Call the ID3 algorithm for each of those sub_datasets with the new parameters --> Here the recursion comes in!\n",
        "            subtree = ID3(sub_data,dataset,features,target_attribute_name,parent_node_class)\n",
        "            \n",
        "            #Add the sub tree, grown from the sub_dataset to the tree under the root node\n",
        "            tree[best_feature][value] = subtree\n",
        "            \n",
        "        return(tree)    \n",
        "\n",
        "    \n",
        "def predict(query,tree,default = 1):\n",
        "\n",
        "        \n",
        "    #1.\n",
        "    for key in list(query.keys()):\n",
        "        if key in list(tree.keys()):\n",
        "            #2.\n",
        "            try:\n",
        "                result = tree[key][query[key]] \n",
        "            except:\n",
        "                return default\n",
        "  \n",
        "            #3.\n",
        "            result = tree[key][query[key]]\n",
        "            #4.\n",
        "            if isinstance(result,dict):\n",
        "                return predict(query,result)\n",
        "\n",
        "            else:\n",
        "                return result\n",
        "\n",
        "      \n",
        "\n",
        "def test(data,tree):\n",
        "    #Create new query instances by simply removing the target feature column from the original dataset and \n",
        "    #convert it to a dictionary\n",
        "    queries = data.iloc[:,:-1].to_dict(orient = \"records\")\n",
        "    \n",
        "    #Create a empty DataFrame in whose columns the prediction of the tree are stored\n",
        "    predicted = pd.DataFrame(columns=[\"predicted\"]) \n",
        "    \n",
        "    #Calculate the prediction accuracy\n",
        "    for i in range(len(data)):\n",
        "        predicted.loc[i,\"predicted\"] = predict(queries[i],tree,1.0) \n",
        "    #print('The prediction accuracy is: ',(np.sum(predicted[\"predicted\"] == data[\"class\"])/len(data)))\n",
        "    result = (np.sum(predicted[\"predicted\"] == data[\"class\"])/len(data))\n",
        "    return result\n",
        "    \n",
        "\n",
        "def Print_Tree(tree,s):\n",
        " if not isinstance(t,dict) and not isinstance(tree,list):\n",
        "      print(\"\\t\"*s+str(tree))\n",
        " else:\n",
        "     for key in tree:\n",
        "        if isinstance(key,str):\n",
        "            print(\"\\t\"*s+str(key)+\"=\")\n",
        "     \n",
        "        elif not isinstance(key,str):\n",
        "            print(\"\\t\"*s+str(key))\n",
        "           \n",
        "        if not isinstance(tree,list):\n",
        "            formatData(tree[key],s+1)\n",
        "            \n",
        " \n",
        "\n",
        "tree_train = ID3(train_d,train_d,train_d.columns[:-1])\n",
        "tree_test= ID3(test_d,test_d,test_d.columns[:-1])\n",
        "\n",
        "formatData(tree_train,0)\n",
        "\n",
        "print(\"The training accuracy is\" , test(train_d,tree_train))\n",
        "print(\"The testing accuracy is\" , test(test_d,tree_test))\n"
      ],
      "execution_count": null,
      "outputs": [
        {
          "output_type": "stream",
          "text": [
            "attr5=\n",
            "\t0\n",
            "\t\tattr6=\n",
            "\t\t\t0.0\n",
            "\t\t\t\tattr2=\n",
            "\t\t\t\t\t0.0\n",
            "\t\t\t\t\t\tattr1=\n",
            "\t\t\t\t\t\t\t0.0\n",
            "\t\t\t\t\t\t\t\tattr4=\n",
            "\t\t\t\t\t\t\t\t\t0.0\n",
            "\t\t\t\t\t\t\t\t\t\tattr3=\n",
            "\t\t\t\t\t\t\t\t\t\t\t0.0\n",
            "\t\t\t\t\t\t\t\t\t\t\t\t0.0\n",
            "\t\t\t\t\t\t\t\t\t\t\t1.0\n",
            "\t\t\t\t\t\t\t\t\t\t\t\t0.0\n",
            "\t\t\t\t\t\t\t\t\t1.0\n",
            "\t\t\t\t\t\t\t\t\t\tattr3=\n",
            "\t\t\t\t\t\t\t\t\t\t\t0.0\n",
            "\t\t\t\t\t\t\t\t\t\t\t\t0.0\n",
            "\t\t\t\t\t\t\t\t\t\t\t1.0\n",
            "\t\t\t\t\t\t\t\t\t\t\t\t0.0\n",
            "\t\t\t\t\t\t\t1.0\n",
            "\t\t\t\t\t\t\t\tattr4=\n",
            "\t\t\t\t\t\t\t\t\t0.0\n",
            "\t\t\t\t\t\t\t\t\t\tattr3=\n",
            "\t\t\t\t\t\t\t\t\t\t\t0.0\n",
            "\t\t\t\t\t\t\t\t\t\t\t\t0.0\n",
            "\t\t\t\t\t\t\t\t\t\t\t1.0\n",
            "\t\t\t\t\t\t\t\t\t\t\t\t0.0\n",
            "\t\t\t\t\t\t\t\t\t1.0\n",
            "\t\t\t\t\t\t\t\t\t\t0.0\n",
            "\t\t\t\t\t1.0\n",
            "\t\t\t\t\t\tattr4=\n",
            "\t\t\t\t\t\t\t0.0\n",
            "\t\t\t\t\t\t\t\tattr3=\n",
            "\t\t\t\t\t\t\t\t\t0.0\n",
            "\t\t\t\t\t\t\t\t\t\t0.0\n",
            "\t\t\t\t\t\t\t\t\t1.0\n",
            "\t\t\t\t\t\t\t\t\t\tattr1=\n",
            "\t\t\t\t\t\t\t\t\t\t\t0.0\n",
            "\t\t\t\t\t\t\t\t\t\t\t\t0.0\n",
            "\t\t\t\t\t\t\t\t\t\t\t1.0\n",
            "\t\t\t\t\t\t\t\t\t\t\t\t0.0\n",
            "\t\t\t\t\t\t\t1.0\n",
            "\t\t\t\t\t\t\t\tattr1=\n",
            "\t\t\t\t\t\t\t\t\t0.0\n",
            "\t\t\t\t\t\t\t\t\t\tattr3=\n",
            "\t\t\t\t\t\t\t\t\t\t\t0.0\n",
            "\t\t\t\t\t\t\t\t\t\t\t\t0.0\n",
            "\t\t\t\t\t\t\t\t\t\t\t1.0\n",
            "\t\t\t\t\t\t\t\t\t\t\t\t0.0\n",
            "\t\t\t\t\t\t\t\t\t1.0\n",
            "\t\t\t\t\t\t\t\t\t\tattr3=\n",
            "\t\t\t\t\t\t\t\t\t\t\t0.0\n",
            "\t\t\t\t\t\t\t\t\t\t\t\t0.0\n",
            "\t\t\t\t\t\t\t\t\t\t\t1.0\n",
            "\t\t\t\t\t\t\t\t\t\t\t\t0.0\n",
            "\t\t\t1.0\n",
            "\t\t\t\tattr4=\n",
            "\t\t\t\t\t0.0\n",
            "\t\t\t\t\t\tattr2=\n",
            "\t\t\t\t\t\t\t0.0\n",
            "\t\t\t\t\t\t\t\tattr3=\n",
            "\t\t\t\t\t\t\t\t\t0.0\n",
            "\t\t\t\t\t\t\t\t\t\tattr1=\n",
            "\t\t\t\t\t\t\t\t\t\t\t0.0\n",
            "\t\t\t\t\t\t\t\t\t\t\t\t0.0\n",
            "\t\t\t\t\t\t\t\t\t\t\t1.0\n",
            "\t\t\t\t\t\t\t\t\t\t\t\t0.0\n",
            "\t\t\t\t\t\t\t\t\t1.0\n",
            "\t\t\t\t\t\t\t\t\t\tattr1=\n",
            "\t\t\t\t\t\t\t\t\t\t\t0.0\n",
            "\t\t\t\t\t\t\t\t\t\t\t\t0.0\n",
            "\t\t\t\t\t\t\t\t\t\t\t1.0\n",
            "\t\t\t\t\t\t\t\t\t\t\t\t0.0\n",
            "\t\t\t\t\t\t\t1.0\n",
            "\t\t\t\t\t\t\t\tattr1=\n",
            "\t\t\t\t\t\t\t\t\t0.0\n",
            "\t\t\t\t\t\t\t\t\t\tattr3=\n",
            "\t\t\t\t\t\t\t\t\t\t\t0.0\n",
            "\t\t\t\t\t\t\t\t\t\t\t\t0.0\n",
            "\t\t\t\t\t\t\t\t\t\t\t1.0\n",
            "\t\t\t\t\t\t\t\t\t\t\t\t0.0\n",
            "\t\t\t\t\t\t\t\t\t1.0\n",
            "\t\t\t\t\t\t\t\t\t\tattr3=\n",
            "\t\t\t\t\t\t\t\t\t\t\t0.0\n",
            "\t\t\t\t\t\t\t\t\t\t\t\t0.0\n",
            "\t\t\t\t\t\t\t\t\t\t\t1.0\n",
            "\t\t\t\t\t\t\t\t\t\t\t\t0.0\n",
            "\t\t\t\t\t1.0\n",
            "\t\t\t\t\t\tattr2=\n",
            "\t\t\t\t\t\t\t0.0\n",
            "\t\t\t\t\t\t\t\tattr1=\n",
            "\t\t\t\t\t\t\t\t\t0.0\n",
            "\t\t\t\t\t\t\t\t\t\tattr3=\n",
            "\t\t\t\t\t\t\t\t\t\t\t0.0\n",
            "\t\t\t\t\t\t\t\t\t\t\t\t0.0\n",
            "\t\t\t\t\t\t\t\t\t\t\t1.0\n",
            "\t\t\t\t\t\t\t\t\t\t\t\t0.0\n",
            "\t\t\t\t\t\t\t\t\t1.0\n",
            "\t\t\t\t\t\t\t\t\t\tattr3=\n",
            "\t\t\t\t\t\t\t\t\t\t\t0.0\n",
            "\t\t\t\t\t\t\t\t\t\t\t\t0.0\n",
            "\t\t\t\t\t\t\t\t\t\t\t1.0\n",
            "\t\t\t\t\t\t\t\t\t\t\t\t0.0\n",
            "\t\t\t\t\t\t\t1.0\n",
            "\t\t\t\t\t\t\t\tattr1=\n",
            "\t\t\t\t\t\t\t\t\t0.0\n",
            "\t\t\t\t\t\t\t\t\t\tattr3=\n",
            "\t\t\t\t\t\t\t\t\t\t\t0.0\n",
            "\t\t\t\t\t\t\t\t\t\t\t\t1.0\n",
            "\t\t\t\t\t\t\t\t\t\t\t1.0\n",
            "\t\t\t\t\t\t\t\t\t\t\t\t1.0\n",
            "\t\t\t\t\t\t\t\t\t1.0\n",
            "\t\t\t\t\t\t\t\t\t\tattr3=\n",
            "\t\t\t\t\t\t\t\t\t\t\t0.0\n",
            "\t\t\t\t\t\t\t\t\t\t\t\t0.0\n",
            "\t\t\t\t\t\t\t\t\t\t\t1.0\n",
            "\t\t\t\t\t\t\t\t\t\t\t\t0.0\n",
            "\t1\n",
            "\t\tattr6=\n",
            "\t\t\t0.0\n",
            "\t\t\t\tattr3=\n",
            "\t\t\t\t\t0.0\n",
            "\t\t\t\t\t\tattr4=\n",
            "\t\t\t\t\t\t\t0.0\n",
            "\t\t\t\t\t\t\t\tattr1=\n",
            "\t\t\t\t\t\t\t\t\t0.0\n",
            "\t\t\t\t\t\t\t\t\t\tattr2=\n",
            "\t\t\t\t\t\t\t\t\t\t\t0.0\n",
            "\t\t\t\t\t\t\t\t\t\t\t\t0.0\n",
            "\t\t\t\t\t\t\t\t\t\t\t1.0\n",
            "\t\t\t\t\t\t\t\t\t\t\t\t0.0\n",
            "\t\t\t\t\t\t\t\t\t1.0\n",
            "\t\t\t\t\t\t\t\t\t\tattr2=\n",
            "\t\t\t\t\t\t\t\t\t\t\t0.0\n",
            "\t\t\t\t\t\t\t\t\t\t\t\t0.0\n",
            "\t\t\t\t\t\t\t\t\t\t\t1.0\n",
            "\t\t\t\t\t\t\t\t\t\t\t\t0.0\n",
            "\t\t\t\t\t\t\t1.0\n",
            "\t\t\t\t\t\t\t\tattr1=\n",
            "\t\t\t\t\t\t\t\t\t0.0\n",
            "\t\t\t\t\t\t\t\t\t\tattr2=\n",
            "\t\t\t\t\t\t\t\t\t\t\t0.0\n",
            "\t\t\t\t\t\t\t\t\t\t\t\t1.0\n",
            "\t\t\t\t\t\t\t\t\t\t\t1.0\n",
            "\t\t\t\t\t\t\t\t\t\t\t\t1.0\n",
            "\t\t\t\t\t\t\t\t\t1.0\n",
            "\t\t\t\t\t\t\t\t\t\tattr2=\n",
            "\t\t\t\t\t\t\t\t\t\t\t0.0\n",
            "\t\t\t\t\t\t\t\t\t\t\t\t0.0\n",
            "\t\t\t\t\t\t\t\t\t\t\t1.0\n",
            "\t\t\t\t\t\t\t\t\t\t\t\t0.0\n",
            "\t\t\t\t\t1.0\n",
            "\t\t\t\t\t\tattr2=\n",
            "\t\t\t\t\t\t\t0.0\n",
            "\t\t\t\t\t\t\t\tattr4=\n",
            "\t\t\t\t\t\t\t\t\t0.0\n",
            "\t\t\t\t\t\t\t\t\t\tattr1=\n",
            "\t\t\t\t\t\t\t\t\t\t\t0.0\n",
            "\t\t\t\t\t\t\t\t\t\t\t\t1.0\n",
            "\t\t\t\t\t\t\t\t\t\t\t1.0\n",
            "\t\t\t\t\t\t\t\t\t\t\t\t1.0\n",
            "\t\t\t\t\t\t\t\t\t1.0\n",
            "\t\t\t\t\t\t\t\t\t\t1.0\n",
            "\t\t\t\t\t\t\t1.0\n",
            "\t\t\t\t\t\t\t\tattr1=\n",
            "\t\t\t\t\t\t\t\t\t0.0\n",
            "\t\t\t\t\t\t\t\t\t\tattr4=\n",
            "\t\t\t\t\t\t\t\t\t\t\t0.0\n",
            "\t\t\t\t\t\t\t\t\t\t\t\t1.0\n",
            "\t\t\t\t\t\t\t\t\t\t\t1.0\n",
            "\t\t\t\t\t\t\t\t\t\t\t\t1.0\n",
            "\t\t\t\t\t\t\t\t\t1.0\n",
            "\t\t\t\t\t\t\t\t\t\tattr4=\n",
            "\t\t\t\t\t\t\t\t\t\t\t0.0\n",
            "\t\t\t\t\t\t\t\t\t\t\t\t0.0\n",
            "\t\t\t\t\t\t\t\t\t\t\t1.0\n",
            "\t\t\t\t\t\t\t\t\t\t\t\t0.0\n",
            "\t\t\t1.0\n",
            "\t\t\t\tattr4=\n",
            "\t\t\t\t\t0.0\n",
            "\t\t\t\t\t\tattr2=\n",
            "\t\t\t\t\t\t\t0.0\n",
            "\t\t\t\t\t\t\t\tattr3=\n",
            "\t\t\t\t\t\t\t\t\t0.0\n",
            "\t\t\t\t\t\t\t\t\t\tattr1=\n",
            "\t\t\t\t\t\t\t\t\t\t\t0.0\n",
            "\t\t\t\t\t\t\t\t\t\t\t\t0.0\n",
            "\t\t\t\t\t\t\t\t\t\t\t1.0\n",
            "\t\t\t\t\t\t\t\t\t\t\t\t0.0\n",
            "\t\t\t\t\t\t\t\t\t1.0\n",
            "\t\t\t\t\t\t\t\t\t\t0.0\n",
            "\t\t\t\t\t\t\t1.0\n",
            "\t\t\t\t\t\t\t\tattr1=\n",
            "\t\t\t\t\t\t\t\t\t0.0\n",
            "\t\t\t\t\t\t\t\t\t\tattr3=\n",
            "\t\t\t\t\t\t\t\t\t\t\t0.0\n",
            "\t\t\t\t\t\t\t\t\t\t\t\t0.0\n",
            "\t\t\t\t\t\t\t\t\t\t\t1.0\n",
            "\t\t\t\t\t\t\t\t\t\t\t\t0.0\n",
            "\t\t\t\t\t\t\t\t\t1.0\n",
            "\t\t\t\t\t\t\t\t\t\t0.0\n",
            "\t\t\t\t\t1.0\n",
            "\t\t\t\t\t\tattr1=\n",
            "\t\t\t\t\t\t\t0.0\n",
            "\t\t\t\t\t\t\t\tattr2=\n",
            "\t\t\t\t\t\t\t\t\t0.0\n",
            "\t\t\t\t\t\t\t\t\t\tattr3=\n",
            "\t\t\t\t\t\t\t\t\t\t\t0.0\n",
            "\t\t\t\t\t\t\t\t\t\t\t\t0.0\n",
            "\t\t\t\t\t\t\t\t\t\t\t1.0\n",
            "\t\t\t\t\t\t\t\t\t\t\t\t1.0\n",
            "\t\t\t\t\t\t\t\t\t1.0\n",
            "\t\t\t\t\t\t\t\t\t\tattr3=\n",
            "\t\t\t\t\t\t\t\t\t\t\t0.0\n",
            "\t\t\t\t\t\t\t\t\t\t\t\t0.0\n",
            "\t\t\t\t\t\t\t\t\t\t\t1.0\n",
            "\t\t\t\t\t\t\t\t\t\t\t\t0.0\n",
            "\t\t\t\t\t\t\t1.0\n",
            "\t\t\t\t\t\t\t\tattr2=\n",
            "\t\t\t\t\t\t\t\t\t0.0\n",
            "\t\t\t\t\t\t\t\t\t\tattr3=\n",
            "\t\t\t\t\t\t\t\t\t\t\t0.0\n",
            "\t\t\t\t\t\t\t\t\t\t\t\t0.0\n",
            "\t\t\t\t\t\t\t\t\t\t\t1.0\n",
            "\t\t\t\t\t\t\t\t\t\t\t\t0.0\n",
            "\t\t\t\t\t\t\t\t\t1.0\n",
            "\t\t\t\t\t\t\t\t\t\tattr3=\n",
            "\t\t\t\t\t\t\t\t\t\t\t0.0\n",
            "\t\t\t\t\t\t\t\t\t\t\t\t0.0\n",
            "\t\t\t\t\t\t\t\t\t\t\t1.0\n",
            "\t\t\t\t\t\t\t\t\t\t\t\t0.0\n",
            "The training accuracy is 0.87625\n",
            "The testing accuracy is 0.896551724137931\n"
          ],
          "name": "stdout"
        }
      ]
    },
    {
      "cell_type": "markdown",
      "metadata": {
        "id": "YvYowzzA4vcd"
      },
      "source": [
        "##Extra Credit - Learning Curve\n",
        "\n",
        "(05 points)\n",
        "\n",
        "Instead of taking the entire training data (all 800 instances), loop through to select 'x' instances in the increments of 40 (i.e. 40, 80, 120, and so on). For each selected number 'x', randomly pick the example instances from the training data and call the ID3 function to create the decision tree. Calculate the accuracy of the created ID3 tree on the Test data file. Plot the corresponding graph, aka Learning Curve.\n"
      ]
    },
    {
      "cell_type": "code",
      "metadata": {
        "id": "FYSK99zp5a7H",
        "colab": {
          "base_uri": "https://localhost:8080/",
          "height": 295
        },
        "outputId": "a2ce792e-d5dc-4e36-bbe1-1d7629547e83"
      },
      "source": [
        "# Loop through to select the number of instances 'x' in increments of 40\n",
        "# For each 'x',\n",
        "    # Randomly select 'x' instances\n",
        "    # Create the ID3 decision tree using those instances\n",
        "    # Calculate the accuracy of the ID3 tree created on the Test data\n",
        "\n",
        "# Plot the learning curve using the accuracy values\n",
        "    # X-axis will be the number of training instances used for creating the tree\n",
        "    # Y-axis will be the accuracy in % on the Test data\n",
        "\n",
        "x = np.arange(start=40, stop=len(train_d), step=40)\n",
        "y_train = []\n",
        "for i in range(len(x)):\n",
        "  temp = train_d.sample(n = x[i])\n",
        "  tree = ID3(temp,temp,temp.columns[:-1])\n",
        "  y_train.append(test(test_d,tree))\n",
        "\n",
        "##Plotting  \n",
        "plt.plot(x,y_train)\n",
        "plt.xlabel(\"number of instances\")  # add X-axis label\n",
        "plt.ylabel(\"testing accuracy\")  # add Y-axis label\n",
        "plt.title(\"learning rate curve\")  # add title\n",
        "plt.show()"
      ],
      "execution_count": null,
      "outputs": [
        {
          "output_type": "display_data",
          "data": {
            "image/png": "[encoded data removed]",
            "text/plain": [
              "<Figure size 432x288 with 1 Axes>"
            ]
          },
          "metadata": {
            "tags": [],
            "needs_background": "light"
          }
        }
      ]
    },
    {
      "cell_type": "markdown",
      "metadata": {
        "id": "YJSFgNBQrhQU"
      },
      "source": [
        "#Submission Instructions\n",
        "\n",
        "1.   Complete all tasks above - **File MUST contain the output for ALL cells**\n",
        "2.   Export this notebook as .ipynb\n",
        "      (File > Download as ipynb)\n",
        "3.   Upload the .ipynb file on Blackboard"
      ]
    },
    {
      "cell_type": "markdown",
      "metadata": {
        "id": "0lGvLE9H6ptL"
      },
      "source": [
        "##Rubric\n",
        "\n",
        "*   (50 points) Gradient Descent Algorithm\n",
        "*   (05 points) Extra Credit - GD Accuracy Plots\n",
        "*   (100 points) ID3 Algorithm\n",
        "*   (05 points) Extra Credit - ID3 Learning Curve\n"
      ]
    }
  ]
}